{
 "cells": [
  {
   "cell_type": "code",
   "execution_count": 1,
   "metadata": {
    "ExecuteTime": {
     "end_time": "2018-06-28T16:57:53.218351Z",
     "start_time": "2018-06-28T16:57:50.445270Z"
    },
    "init_cell": true
   },
   "outputs": [
    {
     "name": "stderr",
     "output_type": "stream",
     "text": [
      "Using TensorFlow backend.\n"
     ]
    }
   ],
   "source": [
    "import warnings\n",
    "\n",
    "warnings.filterwarnings(\"ignore\")\n",
    "\n",
    "import matplotlib.pyplot as plt\n",
    "import missingno\n",
    "import numpy as np\n",
    "import pandas as pd\n",
    "import seaborn as sns\n",
    "from fancyimpute import MICE\n",
    "from IPython.core.debugger import set_trace\n",
    "from sklearn.base import BaseEstimator, TransformerMixin\n",
    "from sklearn.linear_model import LogisticRegression\n",
    "from sklearn.metrics import accuracy_score, confusion_matrix\n",
    "from sklearn.pipeline import FeatureUnion, Pipeline, make_pipeline\n",
    "from sklearn.preprocessing import LabelEncoder\n",
    "\n",
    "plt.style.use(\"fivethirtyeight\")"
   ]
  },
  {
   "cell_type": "code",
   "execution_count": 2,
   "metadata": {
    "ExecuteTime": {
     "end_time": "2018-06-28T16:57:53.256840Z",
     "start_time": "2018-06-28T16:57:53.221603Z"
    },
    "init_cell": true
   },
   "outputs": [],
   "source": [
    "train = pd.read_csv(\"/home/iyed/.kaggle/competitions/titanic/train.csv\")\n",
    "test = pd.read_csv(\"/home/iyed/.kaggle/competitions/titanic/test.csv\")\n",
    "train.rename(str.lower, axis=1, inplace=True)\n",
    "test.rename(str.lower, axis=1, inplace=True)"
   ]
  },
  {
   "cell_type": "markdown",
   "metadata": {},
   "source": [
    "### Transformers"
   ]
  },
  {
   "cell_type": "code",
   "execution_count": 3,
   "metadata": {
    "ExecuteTime": {
     "end_time": "2018-06-28T16:57:53.274594Z",
     "start_time": "2018-06-28T16:57:53.260087Z"
    },
    "init_cell": true
   },
   "outputs": [],
   "source": [
    "# https://zablo.net/blog/post/pandas-dataframe-in-scikit-learn-feature-union\n",
    "from scipy import sparse\n",
    "from sklearn.externals.joblib import Parallel, delayed\n",
    "from sklearn.pipeline import FeatureUnion, _fit_transform_one, _transform_one\n",
    "\n",
    "\n",
    "class PandasFeatureUnion(FeatureUnion):\n",
    "    def fit_transform(self, X, y=None, **fit_params):\n",
    "        self._validate_transformers()\n",
    "        result = Parallel(n_jobs=self.n_jobs)(\n",
    "            delayed(_fit_transform_one)(trans,\n",
    "                                        weight,\n",
    "                                        X,\n",
    "                                        y,\n",
    "                                        **fit_params) for name,\n",
    "            trans,\n",
    "            weight in self._iter()\n",
    "        )\n",
    "\n",
    "        if not result:\n",
    "            # All transformers are None\n",
    "            return np.zeros((X.shape[0], 0))\n",
    "        Xs, transformers = zip(*result)\n",
    "        self._update_transformer_list(transformers)\n",
    "        if any(sparse.issparse(f) for f in Xs):\n",
    "            Xs = sparse.hstack(Xs).tocsr()\n",
    "        else:\n",
    "            Xs = self.merge_dataframes_by_column(Xs)\n",
    "        return Xs\n",
    "\n",
    "    def merge_dataframes_by_column(self, Xs):\n",
    "        return pd.concat(Xs, axis=\"columns\", copy=False)\n",
    "\n",
    "    def transform(self, X):\n",
    "        Xs = Parallel(n_jobs=self.n_jobs)(\n",
    "            delayed(_transform_one)(trans,\n",
    "                                    weight,\n",
    "                                    X) for name,\n",
    "            trans,\n",
    "            weight in self._iter()\n",
    "        )\n",
    "        if not Xs:\n",
    "            # All transformers are None\n",
    "            return np.zeros((X.shape[0], 0))\n",
    "        if any(sparse.issparse(f) for f in Xs):\n",
    "            Xs = sparse.hstack(Xs).tocsr()\n",
    "        else:\n",
    "            Xs = self.merge_dataframes_by_column(Xs)\n",
    "        return Xs"
   ]
  },
  {
   "cell_type": "code",
   "execution_count": 4,
   "metadata": {
    "ExecuteTime": {
     "end_time": "2018-06-28T16:57:53.289227Z",
     "start_time": "2018-06-28T16:57:53.277582Z"
    },
    "init_cell": true
   },
   "outputs": [],
   "source": [
    "class NoFitMixin():\n",
    "    def fit(self, X, y=None):\n",
    "        return self\n",
    "\n",
    "\n",
    "class MICEImputer(BaseEstimator, TransformerMixin, NoFitMixin):\n",
    "    def transform(self, X, *args, **kwargs):\n",
    "        \"\"\"\n",
    "            Fill a 1-D array missing values with MICE\n",
    "        \"\"\"\n",
    "        assert isinstance(X, pd.Series)\n",
    "        X = X.copy()    # Should avoid error of already full for repeat execution\n",
    "        has_null = X.isnull().any()    # TODO: Used to avoid error of no null values from MICE\n",
    "        if has_null:\n",
    "            mice = MICE(verbose=False, *args, **kwargs)\n",
    "            imputed = mice.complete(X.values.reshape(-1, 1))\n",
    "            X.loc[:] = imputed.reshape(X.loc[:].shape)\n",
    "            return pd.DataFrame(X)\n",
    "        else:\n",
    "            return X\n",
    "\n",
    "\n",
    "class ColumnSelector(BaseEstimator, TransformerMixin, NoFitMixin):\n",
    "    def __init__(self, columns, one_col=True):\n",
    "        self.columns = columns\n",
    "        self.one_col = one_col\n",
    "\n",
    "    def transform(self, X, y=None):\n",
    "        if self.one_col:\n",
    "            return X[self.columns].iloc[:, 0]\n",
    "        else:\n",
    "            return X[self.columns]\n",
    "\n",
    "\n",
    "class ColumnDummifier(BaseEstimator, TransformerMixin, NoFitMixin):\n",
    "    def transform(self, X, y=None):\n",
    "        return pd.get_dummies(X, sparse=True, drop_first=True)\n",
    "\n",
    "\n",
    "class LabelEncoderWNaN(TransformerMixin, BaseEstimator):\n",
    "    \"\"\"\n",
    "    Applies the sklearn.LabelEncoder while keeping missing values\n",
    "    \"\"\"\n",
    "\n",
    "    def fit(self, X, y=None):\n",
    "        self.le_ = LabelEncoder()\n",
    "        self.le_.fit(X.loc[X.notnull()])\n",
    "        return self\n",
    "\n",
    "    def transform(self, X, y=None):\n",
    "        X = X.copy(deep=True)    # Do not apply tranform to the actual DF\n",
    "        X.loc[X.notnull()] = self.le_.transform(X.loc[X.notnull()])\n",
    "        return X.astype(\"float\")"
   ]
  },
  {
   "cell_type": "markdown",
   "metadata": {},
   "source": [
    "## Explore"
   ]
  },
  {
   "cell_type": "code",
   "execution_count": 5,
   "metadata": {
    "ExecuteTime": {
     "end_time": "2018-06-28T16:57:53.297585Z",
     "start_time": "2018-06-28T16:57:53.292243Z"
    }
   },
   "outputs": [],
   "source": [
    "train_x = train.drop(columns=[\"survived\"])\n",
    "train_y = train.survived"
   ]
  },
  {
   "cell_type": "code",
   "execution_count": 6,
   "metadata": {
    "ExecuteTime": {
     "end_time": "2018-06-28T16:57:53.309798Z",
     "start_time": "2018-06-28T16:57:53.300706Z"
    }
   },
   "outputs": [],
   "source": [
    "benchmark_pipeline = Pipeline([(\n",
    "    \"prep\",\n",
    "    PandasFeatureUnion([\n",
    "        (\"age\",\n",
    "         make_pipeline(ColumnSelector([\"age\"]),\n",
    "                       MICEImputer())),\n",
    "        (\"sex_dummy\",\n",
    "         make_pipeline(ColumnSelector([\"sex\"]),\n",
    "                       ColumnDummifier())),\n",
    "        (\n",
    "            \"embarked\",\n",
    "            make_pipeline(ColumnSelector([\"embarked\"]),\n",
    "                          LabelEncoderWNaN(),\n",
    "                          MICEImputer(),\n",
    "                          ColumnDummifier())\n",
    "        ),\n",
    "        (\"fare\",\n",
    "         make_pipeline(ColumnSelector([\"fare\"]),\n",
    "                       MICEImputer())),\n",
    "        (\"rest\",\n",
    "         make_pipeline(ColumnSelector([\"parch\",\n",
    "                                       \"sibsp\",\n",
    "                                       \"pclass\"],\n",
    "                                      one_col=False)))\n",
    "    ])\n",
    ")])"
   ]
  },
  {
   "cell_type": "code",
   "execution_count": 12,
   "metadata": {
    "ExecuteTime": {
     "end_time": "2018-06-28T16:59:25.462362Z",
     "start_time": "2018-06-28T16:59:25.457253Z"
    }
   },
   "outputs": [
    {
     "data": {
      "text/plain": [
       "Index(['passengerid', 'survived', 'pclass', 'name', 'sex', 'age', 'sibsp',\n",
       "       'parch', 'ticket', 'fare', 'cabin', 'embarked'],\n",
       "      dtype='object')"
      ]
     },
     "execution_count": 12,
     "metadata": {},
     "output_type": "execute_result"
    }
   ],
   "source": [
    "train.columns"
   ]
  },
  {
   "cell_type": "markdown",
   "metadata": {},
   "source": [
    "## Benchmark model"
   ]
  },
  {
   "cell_type": "code",
   "execution_count": 7,
   "metadata": {
    "ExecuteTime": {
     "end_time": "2018-06-28T16:57:53.316950Z",
     "start_time": "2018-06-28T16:57:53.312729Z"
    }
   },
   "outputs": [],
   "source": [
    "lr_pipeline = make_pipeline(benchmark_pipeline, LogisticRegression())"
   ]
  },
  {
   "cell_type": "code",
   "execution_count": 8,
   "metadata": {
    "ExecuteTime": {
     "end_time": "2018-06-28T16:57:53.463199Z",
     "start_time": "2018-06-28T16:57:53.320015Z"
    }
   },
   "outputs": [
    {
     "data": {
      "text/plain": [
       "Pipeline(memory=None,\n",
       "     steps=[('pipeline', Pipeline(memory=None,\n",
       "     steps=[('prep', PandasFeatureUnion(n_jobs=1,\n",
       "          transformer_list=[('age', Pipeline(memory=None,\n",
       "     steps=[('columnselector', ColumnSelector(columns=['age'], one_col=True)), ('miceimputer', MICEImputer())])), ('sex_dummy', Pipeline(memory=None,\n",
       "...ty='l2', random_state=None, solver='liblinear', tol=0.0001,\n",
       "          verbose=0, warm_start=False))])"
      ]
     },
     "execution_count": 8,
     "metadata": {},
     "output_type": "execute_result"
    }
   ],
   "source": [
    "lr_pipeline.fit(train, train_y)"
   ]
  },
  {
   "cell_type": "code",
   "execution_count": 9,
   "metadata": {
    "ExecuteTime": {
     "end_time": "2018-06-28T16:57:53.600625Z",
     "start_time": "2018-06-28T16:57:53.466319Z"
    }
   },
   "outputs": [
    {
     "data": {
      "text/plain": [
       "0.8024691358024691"
      ]
     },
     "execution_count": 9,
     "metadata": {},
     "output_type": "execute_result"
    }
   ],
   "source": [
    "accuracy_score(train_y, lr_pipeline.predict(train_x))"
   ]
  },
  {
   "cell_type": "code",
   "execution_count": 10,
   "metadata": {
    "ExecuteTime": {
     "end_time": "2018-06-28T16:58:18.460895Z",
     "start_time": "2018-06-28T16:58:18.300378Z"
    }
   },
   "outputs": [],
   "source": [
    "validate = pd.read_excel(\"/home/iyed/Downloads/titanic3.xls\")"
   ]
  },
  {
   "cell_type": "code",
   "execution_count": 11,
   "metadata": {
    "ExecuteTime": {
     "end_time": "2018-06-28T16:58:52.391273Z",
     "start_time": "2018-06-28T16:58:52.209625Z"
    }
   },
   "outputs": [
    {
     "data": {
      "text/plain": [
       "0.7899159663865546"
      ]
     },
     "execution_count": 11,
     "metadata": {},
     "output_type": "execute_result"
    }
   ],
   "source": [
    "accuracy_score(validate.survived, lr_pipeline.predict(validate))"
   ]
  },
  {
   "cell_type": "code",
   "execution_count": null,
   "metadata": {},
   "outputs": [],
   "source": []
  }
 ],
 "metadata": {
  "celltoolbar": "Initialization Cell",
  "hide_input": false,
  "kernelspec": {
   "display_name": "Python 3",
   "language": "python",
   "name": "python3"
  },
  "language_info": {
   "codemirror_mode": {
    "name": "ipython",
    "version": 3
   },
   "file_extension": ".py",
   "mimetype": "text/x-python",
   "name": "python",
   "nbconvert_exporter": "python",
   "pygments_lexer": "ipython3",
   "version": "3.6.5"
  },
  "varInspector": {
   "cols": {
    "lenName": 16,
    "lenType": 16,
    "lenVar": 40
   },
   "kernels_config": {
    "python": {
     "delete_cmd_postfix": "",
     "delete_cmd_prefix": "del ",
     "library": "var_list.py",
     "varRefreshCmd": "print(var_dic_list())"
    },
    "r": {
     "delete_cmd_postfix": ") ",
     "delete_cmd_prefix": "rm(",
     "library": "var_list.r",
     "varRefreshCmd": "cat(var_dic_list()) "
    }
   },
   "types_to_exclude": [
    "module",
    "function",
    "builtin_function_or_method",
    "instance",
    "_Feature"
   ],
   "window_display": false
  }
 },
 "nbformat": 4,
 "nbformat_minor": 2
}
